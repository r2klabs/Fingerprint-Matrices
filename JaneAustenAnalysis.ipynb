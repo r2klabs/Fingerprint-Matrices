{
 "cells": [
  {
   "cell_type": "markdown",
   "metadata": {},
   "source": [
    "# Analysis of Jane Austen Character Co-occurrences\n",
    "This notebook experiments with the concept of fingerprint matrices, a technique for generating an image representing character co-occurrences in novels."
   ]
  },
  {
   "cell_type": "code",
   "execution_count": null,
   "metadata": {},
   "outputs": [],
   "source": [
    "import numpy as np\n",
    "from urllib import request\n",
    "from PIL import Image, ImageOps\n",
    "from nltk.tokenize import sent_tokenize"
   ]
  },
  {
   "cell_type": "markdown",
   "metadata": {},
   "source": [
    "This function creates a fingerprint matrix for a single character."
   ]
  },
  {
   "cell_type": "code",
   "execution_count": null,
   "metadata": {},
   "outputs": [],
   "source": [
    "def fingerprintmatrix(text, character):\n",
    "    sentences = sent_tokenize(text)\n",
    "    even=100-len(sentences)%100\n",
    "    height = 100\n",
    "    width = int((even+len(sentences))/100)\n",
    "    pixel_array = np.zeros([len(sentences)+even,3],dtype=np.uint8)\n",
    "    pixel_array[:,:] = [255,255, 255]\n",
    "    i = 0\n",
    "    for sentence in sentences:\n",
    "        if(sentence.find(character)!=-1):\n",
    "            pixel_array[i] = [186,225,255]\n",
    "        i = i + 1\n",
    "    \n",
    "    h = height\n",
    "    w = width\n",
    "    \n",
    "    if(height>width):\n",
    "        h = width\n",
    "        w = height\n",
    "    \n",
    "    data = pixel_array.reshape([h,w,3])\n",
    "    img = Image.fromarray(data)\n",
    "    img = img.resize((800,400))\n",
    "    filename = character+\".png\"\n",
    "    add_border(img, filename)"
   ]
  },
  {
   "cell_type": "markdown",
   "metadata": {},
   "source": [
    "This function accepts a string containing the novel's text and two character's to search in the text. It then produces and image (fingerprint matrix) in which a pixel indicates if a character is in a sentence or not. This is a simple version of that does not account for overlap (both characters in the same sentence)."
   ]
  },
  {
   "cell_type": "code",
   "execution_count": null,
   "metadata": {},
   "outputs": [],
   "source": [
    "def co_occurrence(text, char1, char2, occurrences_only=True):\n",
    "    sentences = sent_tokenize(text)\n",
    "    even=100-len(sentences)%100\n",
    "    height = 100\n",
    "    width = int((even+len(sentences))/100)\n",
    "    pixel_array = np.zeros([len(sentences)+even,3],dtype=np.uint8)\n",
    "    pixel_array[:,:] = [255,255, 255]\n",
    "    i = 0\n",
    "    for sentence in sentences:\n",
    "        if(occurrences_only==False):\n",
    "            if(sentence.find(char1)!=-1):\n",
    "                pixel_array[i] = [186,225,255]\n",
    "            if(sentence.find(char2)!=-1):\n",
    "                pixel_array[i] = [255,179,186]\n",
    "        if(sentence.find(char1)!=-1 and sentence.find(char2)!=-1):\n",
    "            pixel_array[i] = [255, 0, 0]\n",
    "        i = i + 1\n",
    "\n",
    "    h = height\n",
    "    w = width\n",
    "    \n",
    "    if(height>width):\n",
    "        h = width\n",
    "        w = height\n",
    "        \n",
    "    data = pixel_array.reshape([h,w,3])\n",
    "    img = Image.fromarray(data)\n",
    "    filename = char1+\"_\"+char2+\".png\"\n",
    "    img = img.resize((800,400))\n",
    "    add_border(img, filename)\n"
   ]
  },
  {
   "cell_type": "markdown",
   "metadata": {},
   "source": [
    "This function adds a border around an image."
   ]
  },
  {
   "cell_type": "code",
   "execution_count": null,
   "metadata": {},
   "outputs": [],
   "source": [
    "def add_border(img,filename):\n",
    "    img_with_border = ImageOps.expand(img,border=1)\n",
    "    img_with_border.save(filename)"
   ]
  },
  {
   "cell_type": "markdown",
   "metadata": {},
   "source": [
    "## Character Co-occurrence of in Jane Austen's Emma."
   ]
  },
  {
   "cell_type": "code",
   "execution_count": null,
   "metadata": {},
   "outputs": [],
   "source": [
    "file = open('austen/emma.txt', 'r',encoding=\"utf8\")  #open the file (all gutenberg texts are UTF8 encoded)\n",
    "text = file.read()\n",
    "file.close()"
   ]
  },
  {
   "cell_type": "code",
   "execution_count": null,
   "metadata": {},
   "outputs": [],
   "source": [
    "fingerprintmatrix(text, 'Emma')"
   ]
  },
  {
   "cell_type": "code",
   "execution_count": null,
   "metadata": {},
   "outputs": [],
   "source": [
    "fingerprintmatrix(text, 'Knightley')\n",
    "co_occurrence(text, 'Emma', 'Knightley',False)"
   ]
  },
  {
   "cell_type": "code",
   "execution_count": null,
   "metadata": {},
   "outputs": [],
   "source": [
    "fingerprintmatrix(text, 'Jane')\n",
    "co_occurrence(text, 'Emma', 'Jane',False)"
   ]
  },
  {
   "cell_type": "markdown",
   "metadata": {},
   "source": [
    "Put characters into a list so you can generate matrices for all of them."
   ]
  },
  {
   "cell_type": "code",
   "execution_count": null,
   "metadata": {},
   "outputs": [],
   "source": [
    "characters = ['Emma','Mr. Knightley','Mr. Woodhouse', 'Harriet Smith', 'Frank Churchill']\n",
    "for c in characters:\n",
    "    fingerprintmatrix(text,c)"
   ]
  },
  {
   "cell_type": "code",
   "execution_count": null,
   "metadata": {},
   "outputs": [],
   "source": [
    "fingerprintmatrix(text, 'Harriet')\n",
    "co_occurrence(text, 'Emma', 'Harriet',False)"
   ]
  },
  {
   "cell_type": "markdown",
   "metadata": {},
   "source": [
    "## Character Co-occurrence of in Jane Austen's Pride and Prejudice."
   ]
  },
  {
   "cell_type": "code",
   "execution_count": null,
   "metadata": {},
   "outputs": [],
   "source": [
    "file = open('austen/prideandprejudice.txt', 'r',encoding=\"utf8\")  #open the file (all gutenberg texts are UTF8 encoded)\n",
    "text = file.read()\n",
    "file.close()"
   ]
  },
  {
   "cell_type": "code",
   "execution_count": null,
   "metadata": {},
   "outputs": [],
   "source": [
    "fingerprintmatrix(text, 'Elizabeth')\n",
    "fingerprintmatrix(text, 'Darcy')\n",
    "co_occurrence(text, 'Elizabeth','Darcy')"
   ]
  }
 ],
 "metadata": {
  "kernelspec": {
   "display_name": "Python 3",
   "language": "python",
   "name": "python3"
  },
  "language_info": {
   "codemirror_mode": {
    "name": "ipython",
    "version": 3
   },
   "file_extension": ".py",
   "mimetype": "text/x-python",
   "name": "python",
   "nbconvert_exporter": "python",
   "pygments_lexer": "ipython3",
   "version": "3.8.5"
  },
  "toc": {
   "base_numbering": 1,
   "nav_menu": {},
   "number_sections": true,
   "sideBar": true,
   "skip_h1_title": false,
   "title_cell": "Table of Contents",
   "title_sidebar": "Contents",
   "toc_cell": false,
   "toc_position": {},
   "toc_section_display": true,
   "toc_window_display": false
  }
 },
 "nbformat": 4,
 "nbformat_minor": 4
}
